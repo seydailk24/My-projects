{
 "cells": [
  {
   "cell_type": "code",
   "execution_count": 90,
   "id": "ff404506",
   "metadata": {},
   "outputs": [],
   "source": [
    "import numpy as np\n",
    "import pandas as pd\n",
    "from scipy import stats\n",
    "import seaborn as sns\n",
    "import matplotlib.pyplot as plt"
   ]
  },
  {
   "cell_type": "markdown",
   "id": "5d1e1f05",
   "metadata": {},
   "source": [
    "EXERCISE 1"
   ]
  },
  {
   "cell_type": "markdown",
   "id": "5e94a8bd",
   "metadata": {},
   "source": [
    "1.\tA salesperson has found that the probability of a sale on a single contact is approximately 0.03 If the salesperson contacts 10 prospects, what is the approximate probability of making at least one sale? (Wackerly, Ex.3.135)"
   ]
  },
  {
   "cell_type": "code",
   "execution_count": 91,
   "id": "c3840b1a",
   "metadata": {},
   "outputs": [
    {
     "data": {
      "text/plain": [
       "0.02824752489999998"
      ]
     },
     "execution_count": 91,
     "metadata": {},
     "output_type": "execute_result"
    }
   ],
   "source": [
    "n = 10\n",
    "p = 0.3\n",
    "#P(x >= 1) = ? \n",
    "stats.binom.cdf(0,10,0.3)"
   ]
  },
  {
   "cell_type": "code",
   "execution_count": 92,
   "id": "5e7b1c5b",
   "metadata": {},
   "outputs": [
    {
     "data": {
      "text/plain": [
       "0.9717524751000001"
      ]
     },
     "execution_count": 92,
     "metadata": {},
     "output_type": "execute_result"
    }
   ],
   "source": [
    "1 - 0.02824752489999998"
   ]
  },
  {
   "cell_type": "markdown",
   "id": "934f528a",
   "metadata": {},
   "source": [
    "2.\tTen coins are tossed simultaneously. Find the probability of getting\n",
    "\n",
    "\n",
    "(i) at least seven heads\n"
   ]
  },
  {
   "cell_type": "code",
   "execution_count": 88,
   "id": "6678080e",
   "metadata": {},
   "outputs": [
    {
     "data": {
      "text/plain": [
       "0.828125"
      ]
     },
     "execution_count": 88,
     "metadata": {},
     "output_type": "execute_result"
    }
   ],
   "source": [
    "n = 10 \n",
    "#P(x>=7) = ?\n",
    "p = 0.5\n",
    "stats.binom.cdf(6,10,0.5)"
   ]
  },
  {
   "cell_type": "code",
   "execution_count": 89,
   "id": "f43c89c4",
   "metadata": {},
   "outputs": [
    {
     "data": {
      "text/plain": [
       "0.171875"
      ]
     },
     "execution_count": 89,
     "metadata": {},
     "output_type": "execute_result"
    }
   ],
   "source": [
    "1 - 0.828125"
   ]
  },
  {
   "cell_type": "markdown",
   "id": "775d504a",
   "metadata": {},
   "source": [
    "(ii) exactly seven heads"
   ]
  },
  {
   "cell_type": "code",
   "execution_count": 59,
   "id": "e0555bb8",
   "metadata": {},
   "outputs": [],
   "source": [
    "x = 7"
   ]
  },
  {
   "cell_type": "code",
   "execution_count": 85,
   "id": "d71b385f",
   "metadata": {},
   "outputs": [
    {
     "data": {
      "text/plain": [
       "0.11718750000000014"
      ]
     },
     "execution_count": 85,
     "metadata": {},
     "output_type": "execute_result"
    }
   ],
   "source": [
    "stats.binom.pmf(7,10,0.5)"
   ]
  },
  {
   "cell_type": "markdown",
   "id": "58119ce5",
   "metadata": {},
   "source": [
    "(iii)at most seven heads"
   ]
  },
  {
   "cell_type": "code",
   "execution_count": 86,
   "id": "e848a676",
   "metadata": {},
   "outputs": [
    {
     "data": {
      "text/plain": [
       "0.9453125"
      ]
     },
     "execution_count": 86,
     "metadata": {},
     "output_type": "execute_result"
    }
   ],
   "source": [
    "#x < 7 \n",
    "\n",
    "stats.binom.cdf(7,10,0.5)"
   ]
  },
  {
   "cell_type": "markdown",
   "id": "339f4a7e",
   "metadata": {},
   "source": [
    "EXERCISE 2"
   ]
  },
  {
   "cell_type": "markdown",
   "id": "41c73aae",
   "metadata": {},
   "source": [
    "The cycle time for trucks hauling concrete to a highway construction site is uniformly distributed over the interval 50 to 70 minutes. What is the probability that the cycle time exceeds 65 minutes if it is known that the cycle time exceeds 55 minutes?"
   ]
  },
  {
   "cell_type": "code",
   "execution_count": 49,
   "id": "279a3085",
   "metadata": {},
   "outputs": [],
   "source": [
    "#loc = 50 scale=(20)  P(x>65\\x>55)= P(x>65)/ P(x>55)=?"
   ]
  },
  {
   "cell_type": "code",
   "execution_count": 95,
   "id": "fcdd816e",
   "metadata": {},
   "outputs": [
    {
     "data": {
      "text/plain": [
       "0.25"
      ]
     },
     "execution_count": 95,
     "metadata": {},
     "output_type": "execute_result"
    }
   ],
   "source": [
    "#for P(x>65) :\n",
    "\n",
    "1 - stats.uniform.cdf(65,50,20)"
   ]
  },
  {
   "cell_type": "code",
   "execution_count": 96,
   "id": "85556efb",
   "metadata": {
    "scrolled": true
   },
   "outputs": [
    {
     "data": {
      "text/plain": [
       "0.75"
      ]
     },
     "execution_count": 96,
     "metadata": {},
     "output_type": "execute_result"
    }
   ],
   "source": [
    "#for P(x>55)\n",
    "1- stats.uniform.cdf(55,50,20)"
   ]
  },
  {
   "cell_type": "code",
   "execution_count": 97,
   "id": "d440f279",
   "metadata": {},
   "outputs": [
    {
     "data": {
      "text/plain": [
       "0.3333333333333333"
      ]
     },
     "execution_count": 97,
     "metadata": {},
     "output_type": "execute_result"
    }
   ],
   "source": [
    "# for P(x>65\\x>55) :\n",
    "\n",
    "(1 - stats.uniform.cdf(65,50,20))/(1- stats.uniform.cdf(55,50,20))"
   ]
  },
  {
   "cell_type": "markdown",
   "id": "ab2fca6c",
   "metadata": {},
   "source": [
    "EXERCISE 3.\n",
    "\n",
    "The width of bolts of fabric is normally distributed with mean 950 mm (millimeters) and standard deviation 10 mm.\n",
    "\n",
    "\n",
    "1.\tWhat is the probability that a randomly chosen bolt has a width of between 947 and 958mm?\n"
   ]
  },
  {
   "cell_type": "code",
   "execution_count": 102,
   "id": "98b22006",
   "metadata": {},
   "outputs": [],
   "source": [
    "#mean = 950 st_d = 10\n",
    "#P(947<x<958)=?\n"
   ]
  },
  {
   "cell_type": "code",
   "execution_count": 103,
   "id": "6159f8b9",
   "metadata": {},
   "outputs": [
    {
     "data": {
      "text/plain": [
       "0.7881446014166034"
      ]
     },
     "execution_count": 103,
     "metadata": {},
     "output_type": "execute_result"
    }
   ],
   "source": [
    "stats.norm.cdf(958,950,10)"
   ]
  },
  {
   "cell_type": "code",
   "execution_count": 104,
   "id": "d8d8d27b",
   "metadata": {},
   "outputs": [
    {
     "data": {
      "text/plain": [
       "0.3820885778110474"
      ]
     },
     "execution_count": 104,
     "metadata": {},
     "output_type": "execute_result"
    }
   ],
   "source": [
    "stats.norm.cdf(947,950,10)"
   ]
  },
  {
   "cell_type": "code",
   "execution_count": 105,
   "id": "d8a96b49",
   "metadata": {},
   "outputs": [
    {
     "data": {
      "text/plain": [
       "0.406056023605556"
      ]
     },
     "execution_count": 105,
     "metadata": {},
     "output_type": "execute_result"
    }
   ],
   "source": [
    "stats.norm.cdf(958,950,10) - stats.norm.cdf(947,950,10)"
   ]
  },
  {
   "cell_type": "markdown",
   "id": "ac5b647f",
   "metadata": {},
   "source": [
    "2.\tWhat is the appropriate value for C such that a randomly chosen bolt has a width less than C with probability .8531? (Wackerly, Ex.4.73)"
   ]
  },
  {
   "cell_type": "code",
   "execution_count": null,
   "id": "e20f1eff",
   "metadata": {},
   "outputs": [],
   "source": [
    "#mean = 950, st_d = 10, P(x <= C) = 0.8531\n"
   ]
  },
  {
   "cell_type": "code",
   "execution_count": 77,
   "id": "eaf0f2ef",
   "metadata": {},
   "outputs": [],
   "source": [
    "#P(X-950)/10 <= (C-950)/10 = 0.8531\n",
    "#(C-950)/10 = 1.05   C= 960.5"
   ]
  },
  {
   "cell_type": "markdown",
   "id": "a352c785",
   "metadata": {},
   "source": [
    "EXERCISE 4. \n",
    "\n",
    "\n",
    "Suppose scores on exams in statistics are normally distributed with an unknown population mean and a population standard deviation of 3 points. A random sample of 36 scores is taken and gives a sample mean (sample mean score) of 68. Find a confidence interval estimate for the population mean exam score (the mean score on all exams). Find a 90% confidence interval for the true (population) mean of statistics exam scores."
   ]
  },
  {
   "cell_type": "code",
   "execution_count": null,
   "id": "35829379",
   "metadata": {},
   "outputs": [],
   "source": []
  },
  {
   "cell_type": "code",
   "execution_count": null,
   "id": "f53199db",
   "metadata": {},
   "outputs": [],
   "source": []
  },
  {
   "cell_type": "markdown",
   "id": "9c1908a9",
   "metadata": {},
   "source": [
    "EXERCISE 5.  \n",
    "\n",
    "\n",
    "What is the normal body temperature for healthy humans? A random sample of 130 healthy human body temperatures provided by Allen Shoemaker yielded 98.25 degrees and standard deviation 0.73 degrees.\n"
   ]
  },
  {
   "cell_type": "markdown",
   "id": "bf09dcd1",
   "metadata": {},
   "source": [
    "1.\tGive a 99% confidence interval for the average body temperature of healthy people."
   ]
  },
  {
   "cell_type": "code",
   "execution_count": null,
   "id": "3227d1a2",
   "metadata": {},
   "outputs": [],
   "source": []
  },
  {
   "cell_type": "code",
   "execution_count": null,
   "id": "1981c9c9",
   "metadata": {},
   "outputs": [],
   "source": []
  },
  {
   "cell_type": "markdown",
   "id": "c242c8cc",
   "metadata": {},
   "source": [
    "2.\tDoes the confidence interval obtained in part (a) contain the value 98.6 degrees, the accepted average temperature cited by physicians and others? What conclusions can you draw? (Wackerly, Ex.8.60)"
   ]
  },
  {
   "cell_type": "code",
   "execution_count": null,
   "id": "3f213a64",
   "metadata": {},
   "outputs": [],
   "source": []
  },
  {
   "cell_type": "code",
   "execution_count": null,
   "id": "1f5db330",
   "metadata": {},
   "outputs": [],
   "source": []
  }
 ],
 "metadata": {
  "kernelspec": {
   "display_name": "Python 3",
   "language": "python",
   "name": "python3"
  },
  "language_info": {
   "codemirror_mode": {
    "name": "ipython",
    "version": 3
   },
   "file_extension": ".py",
   "mimetype": "text/x-python",
   "name": "python",
   "nbconvert_exporter": "python",
   "pygments_lexer": "ipython3",
   "version": "3.8.8"
  }
 },
 "nbformat": 4,
 "nbformat_minor": 5
}
